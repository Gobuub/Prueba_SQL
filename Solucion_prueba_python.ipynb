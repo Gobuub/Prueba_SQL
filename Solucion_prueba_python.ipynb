{
 "cells": [
  {
   "cell_type": "code",
   "execution_count": 1,
   "id": "8d375568",
   "metadata": {},
   "outputs": [],
   "source": [
    "import pandas as pd\n",
    "import numpy as np\n",
    "import mysql.connector as conn\n",
    "from sqlalchemy import create_engine \n"
   ]
  },
  {
   "cell_type": "code",
   "execution_count": 2,
   "id": "39894c40",
   "metadata": {},
   "outputs": [],
   "source": [
    "# Conexión a la base de datos debes rellenarla contu usuario y contraseña de workbench.\n",
    "db_conect=conn.connect(host='localhost', user='*******', passwd='*********', database='employees')"
   ]
  },
  {
   "cell_type": "code",
   "execution_count": null,
   "id": "5564bf55",
   "metadata": {},
   "outputs": [],
   "source": [
    "cursor=db_conect.cursor() # cursos para conectarse a la base de datos"
   ]
  },
  {
   "cell_type": "code",
   "execution_count": null,
   "id": "a506e2f4",
   "metadata": {},
   "outputs": [],
   "source": [
    "# Prueba para ver si estamos conectados a la base de datos correcta.\n",
    "cursor.execute('show tables;')\n",
    "\n",
    "for x in cursor:\n",
    "    print(x)"
   ]
  },
  {
   "cell_type": "markdown",
   "id": "127f376f",
   "metadata": {},
   "source": [
    "# Ejercicio 1.\n",
    "\n",
    "    Obtener la cantidad de empleados por género de cada departamento."
   ]
  },
  {
   "cell_type": "code",
   "execution_count": null,
   "id": "4b5f5775",
   "metadata": {},
   "outputs": [],
   "source": [
    "gender_employees_per_department = pd.read_sql('''\n",
    "    select distinct dept_name, \n",
    "    count(case employees.gender when 'M' then 1 end) as Male, \n",
    "    count(case employees.gender when 'F' then 1 end) as Female\n",
    "    from employees\n",
    "    join dept_emp on employees.emp_no = dept_emp.emp_no\n",
    "    join departments on departments.dept_no = dept_emp.dept_no \n",
    "\n",
    "    group by departments.dept_name\n",
    "\n",
    "    ;\n",
    "    ''', con=db_conect)\n",
    "gender_employees_per_department"
   ]
  },
  {
   "cell_type": "markdown",
   "id": "69c14e95",
   "metadata": {},
   "source": [
    "# Ejercicio 2\n",
    "\n",
    "    Obtén los nombres de los managers activos y el de su predecesor por cada\n",
    "    departamento."
   ]
  },
  {
   "cell_type": "code",
   "execution_count": null,
   "id": "ae019611",
   "metadata": {},
   "outputs": [],
   "source": [
    "deparment_managers = pd.read_sql('''\n",
    "Select Deparment, Manager, Previous_Manager from\n",
    "\t(select distinct departments.dept_name as Deparment, \n",
    "    concat(employees.first_name, ' ', employees.last_name)as Manager ,\n",
    "    lag(concat(employees.first_name, ' ', employees.last_name), 1) \n",
    "    over (partition by departments.dept_name  order by dept_manager.to_date) as Previous_Manager,\n",
    "    from_date as Starts_Contract,\n",
    "    to_date as End_Contract\n",
    "    from departments\n",
    "\n",
    "    join dept_manager on departments.dept_no = dept_manager.dept_no\n",
    "    join employees on dept_manager.emp_no = employees.emp_no) as Managers\n",
    "where End_Contract = '9999-01-01'\n",
    ";\n",
    "\n",
    "    ''', con=db_conect)\n",
    "deparment_managers"
   ]
  },
  {
   "cell_type": "markdown",
   "id": "e2acab6d",
   "metadata": {},
   "source": [
    "# Ejercicio 3\n",
    "\n",
    "    Obtén la cantidad de empleados que tiene cada manager."
   ]
  },
  {
   "cell_type": "code",
   "execution_count": null,
   "id": "06a9108c",
   "metadata": {},
   "outputs": [],
   "source": [
    "employees_per_manager = pd.read_sql('''\n",
    "    Select Department, \n",
    "    concat(employees.first_name, ' ', employees.last_name) as Manager,  \n",
    "    Number_of_Employees\n",
    "    from\n",
    "    (select  departments.dept_name as Department, \n",
    "    count(distinct(employees.emp_no))-1 as Number_of_Employees\n",
    "    from departments\n",
    "    join dept_manager on departments.dept_no = dept_manager.dept_no\n",
    "    join dept_emp on departments.dept_no = dept_emp.dept_no\n",
    "    join employees on dept_emp.emp_no = employees.emp_no\n",
    "    group by departments.dept_name) as Employees_per_department\n",
    "\n",
    "    join departments on Employees_per_department.Department = departments.dept_name\n",
    "    join dept_manager on departments.dept_no = dept_manager.dept_no\n",
    "    join employees on dept_manager.emp_no = employees.emp_no\n",
    "\n",
    "    where dept_manager.to_date = '9999-01-01'\n",
    "\n",
    "\n",
    "    ;\n",
    "\n",
    "    ''',  con=db_conect)\n",
    "employees_per_manager"
   ]
  },
  {
   "cell_type": "markdown",
   "id": "d384f04a",
   "metadata": {},
   "source": [
    "# Ejercicio 4\n",
    "\n",
    "    Obtén un listado de los empleados con mayor ingreso y con el menor ingreso por\n",
    "    cada departamento.\n",
    "    department | employee_max_salary | e_max_salary | employe_min_salary | e_min_salary"
   ]
  },
  {
   "cell_type": "code",
   "execution_count": null,
   "id": "34f2ed34",
   "metadata": {},
   "outputs": [],
   "source": [
    "max_and_min_salary_per_department= pd.read_sql('''\n",
    "    Select Max_Salaries.Department as Department,\n",
    "    Employee_max_salary,\n",
    "    Max_salary,\n",
    "    Employee_min_salary,\n",
    "    Min_salary\n",
    "    from\n",
    "    (select Department, \n",
    "    concat(employees.first_name, ' ', employees.last_name) as Employee_max_salary,\n",
    "    Max_salary\n",
    "    from\n",
    "    (Select departments.dept_name as Department, \n",
    "    max(salaries.salary) As Max_salary\n",
    "    from departments\n",
    "    join dept_emp on departments.dept_no = dept_emp.dept_no\n",
    "    join employees on dept_emp.emp_no = employees.emp_no\n",
    "    join salaries on employees.emp_no = salaries.emp_no\n",
    "\n",
    "    group by departments.dept_name) as Max_Salaries_per_Department\n",
    "\n",
    "    join departments on Max_Salaries_per_Department.Department = departments.dept_name\n",
    "    join dept_emp on departments.dept_no = dept_emp.dept_no\n",
    "    join employees on dept_emp.emp_no = employees.emp_no\n",
    "    join salaries on employees.emp_no = salaries.emp_no\n",
    "\n",
    "    where salaries.salary = Max_Salaries_per_Department.Max_salary) as Max_Salaries\n",
    "\n",
    "    join (select Department, \n",
    "    concat(employees.first_name, ' ', employees.last_name) as Employee_min_salary,\n",
    "    Min_salary\n",
    "    from\n",
    "    (Select departments.dept_name as Department, \n",
    "    min(salaries.salary) as Min_salary\n",
    "    from departments\n",
    "    join dept_emp on departments.dept_no = dept_emp.dept_no\n",
    "    join employees on dept_emp.emp_no = employees.emp_no\n",
    "    join salaries on employees.emp_no = salaries.emp_no\n",
    "\n",
    "    group by departments.dept_name) as Salaries_per_Department\n",
    "\n",
    "    join departments on Salaries_per_Department.Department = departments.dept_name\n",
    "    join dept_emp on departments.dept_no = dept_emp.dept_no\n",
    "    join employees on dept_emp.emp_no = employees.emp_no\n",
    "    join salaries on employees.emp_no = salaries.emp_no\n",
    "\n",
    "    where salaries.salary = Salaries_per_Department.Min_salary  ) as Min_Salaries \n",
    "    on Max_Salaries.Department = Min_Salaries.Department \n",
    "    ;\n",
    "''', con= db_conect)\n",
    "max_and_min_salary_per_department"
   ]
  }
 ],
 "metadata": {
  "kernelspec": {
   "display_name": "Python 3 (ipykernel)",
   "language": "python",
   "name": "python3"
  },
  "language_info": {
   "codemirror_mode": {
    "name": "ipython",
    "version": 3
   },
   "file_extension": ".py",
   "mimetype": "text/x-python",
   "name": "python",
   "nbconvert_exporter": "python",
   "pygments_lexer": "ipython3",
   "version": "3.8.11"
  }
 },
 "nbformat": 4,
 "nbformat_minor": 5
}
